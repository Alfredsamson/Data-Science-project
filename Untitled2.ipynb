{
 "cells": [
  {
   "cell_type": "code",
   "execution_count": 2,
   "id": "538e4cf5",
   "metadata": {},
   "outputs": [],
   "source": [
    "import numpy as np \n",
    "import pandas as pd\n",
    "import matplotlib.pyplot as plt"
   ]
  },
  {
   "cell_type": "code",
   "execution_count": 5,
   "id": "a39256b7",
   "metadata": {},
   "outputs": [],
   "source": [
    "from sklearn.model_selection import train_test_split\n",
    "from sklearn.linear_model import LinearRegression"
   ]
  },
  {
   "cell_type": "code",
   "execution_count": 3,
   "id": "ccd7cbfd",
   "metadata": {},
   "outputs": [],
   "source": [
    "df=pd.read_csv(r'C:\\Users\\User\\Desktop\\data science\\NFLX.csv')"
   ]
  },
  {
   "cell_type": "code",
   "execution_count": 4,
   "id": "d35b8a60",
   "metadata": {},
   "outputs": [
    {
     "data": {
      "text/html": [
       "<div>\n",
       "<style scoped>\n",
       "    .dataframe tbody tr th:only-of-type {\n",
       "        vertical-align: middle;\n",
       "    }\n",
       "\n",
       "    .dataframe tbody tr th {\n",
       "        vertical-align: top;\n",
       "    }\n",
       "\n",
       "    .dataframe thead th {\n",
       "        text-align: right;\n",
       "    }\n",
       "</style>\n",
       "<table border=\"1\" class=\"dataframe\">\n",
       "  <thead>\n",
       "    <tr style=\"text-align: right;\">\n",
       "      <th></th>\n",
       "      <th>Date</th>\n",
       "      <th>Open</th>\n",
       "      <th>High</th>\n",
       "      <th>Low</th>\n",
       "      <th>Close</th>\n",
       "      <th>Adj Close</th>\n",
       "      <th>Volume</th>\n",
       "    </tr>\n",
       "  </thead>\n",
       "  <tbody>\n",
       "    <tr>\n",
       "      <th>0</th>\n",
       "      <td>2018-02-05</td>\n",
       "      <td>262.000000</td>\n",
       "      <td>267.899994</td>\n",
       "      <td>250.029999</td>\n",
       "      <td>254.259995</td>\n",
       "      <td>254.259995</td>\n",
       "      <td>11896100</td>\n",
       "    </tr>\n",
       "    <tr>\n",
       "      <th>1</th>\n",
       "      <td>2018-02-06</td>\n",
       "      <td>247.699997</td>\n",
       "      <td>266.700012</td>\n",
       "      <td>245.000000</td>\n",
       "      <td>265.720001</td>\n",
       "      <td>265.720001</td>\n",
       "      <td>12595800</td>\n",
       "    </tr>\n",
       "    <tr>\n",
       "      <th>2</th>\n",
       "      <td>2018-02-07</td>\n",
       "      <td>266.579987</td>\n",
       "      <td>272.450012</td>\n",
       "      <td>264.329987</td>\n",
       "      <td>264.559998</td>\n",
       "      <td>264.559998</td>\n",
       "      <td>8981500</td>\n",
       "    </tr>\n",
       "    <tr>\n",
       "      <th>3</th>\n",
       "      <td>2018-02-08</td>\n",
       "      <td>267.079987</td>\n",
       "      <td>267.619995</td>\n",
       "      <td>250.000000</td>\n",
       "      <td>250.100006</td>\n",
       "      <td>250.100006</td>\n",
       "      <td>9306700</td>\n",
       "    </tr>\n",
       "    <tr>\n",
       "      <th>4</th>\n",
       "      <td>2018-02-09</td>\n",
       "      <td>253.850006</td>\n",
       "      <td>255.800003</td>\n",
       "      <td>236.110001</td>\n",
       "      <td>249.470001</td>\n",
       "      <td>249.470001</td>\n",
       "      <td>16906900</td>\n",
       "    </tr>\n",
       "    <tr>\n",
       "      <th>5</th>\n",
       "      <td>2018-02-12</td>\n",
       "      <td>252.139999</td>\n",
       "      <td>259.149994</td>\n",
       "      <td>249.000000</td>\n",
       "      <td>257.950012</td>\n",
       "      <td>257.950012</td>\n",
       "      <td>8534900</td>\n",
       "    </tr>\n",
       "    <tr>\n",
       "      <th>6</th>\n",
       "      <td>2018-02-13</td>\n",
       "      <td>257.290009</td>\n",
       "      <td>261.410004</td>\n",
       "      <td>254.699997</td>\n",
       "      <td>258.269989</td>\n",
       "      <td>258.269989</td>\n",
       "      <td>6855200</td>\n",
       "    </tr>\n",
       "    <tr>\n",
       "      <th>7</th>\n",
       "      <td>2018-02-14</td>\n",
       "      <td>260.470001</td>\n",
       "      <td>269.880005</td>\n",
       "      <td>260.329987</td>\n",
       "      <td>266.000000</td>\n",
       "      <td>266.000000</td>\n",
       "      <td>10972000</td>\n",
       "    </tr>\n",
       "    <tr>\n",
       "      <th>8</th>\n",
       "      <td>2018-02-15</td>\n",
       "      <td>270.029999</td>\n",
       "      <td>280.500000</td>\n",
       "      <td>267.630005</td>\n",
       "      <td>280.269989</td>\n",
       "      <td>280.269989</td>\n",
       "      <td>10759700</td>\n",
       "    </tr>\n",
       "    <tr>\n",
       "      <th>9</th>\n",
       "      <td>2018-02-16</td>\n",
       "      <td>278.730011</td>\n",
       "      <td>281.959991</td>\n",
       "      <td>275.690002</td>\n",
       "      <td>278.519989</td>\n",
       "      <td>278.519989</td>\n",
       "      <td>8312400</td>\n",
       "    </tr>\n",
       "  </tbody>\n",
       "</table>\n",
       "</div>"
      ],
      "text/plain": [
       "         Date        Open        High         Low       Close   Adj Close  \\\n",
       "0  2018-02-05  262.000000  267.899994  250.029999  254.259995  254.259995   \n",
       "1  2018-02-06  247.699997  266.700012  245.000000  265.720001  265.720001   \n",
       "2  2018-02-07  266.579987  272.450012  264.329987  264.559998  264.559998   \n",
       "3  2018-02-08  267.079987  267.619995  250.000000  250.100006  250.100006   \n",
       "4  2018-02-09  253.850006  255.800003  236.110001  249.470001  249.470001   \n",
       "5  2018-02-12  252.139999  259.149994  249.000000  257.950012  257.950012   \n",
       "6  2018-02-13  257.290009  261.410004  254.699997  258.269989  258.269989   \n",
       "7  2018-02-14  260.470001  269.880005  260.329987  266.000000  266.000000   \n",
       "8  2018-02-15  270.029999  280.500000  267.630005  280.269989  280.269989   \n",
       "9  2018-02-16  278.730011  281.959991  275.690002  278.519989  278.519989   \n",
       "\n",
       "     Volume  \n",
       "0  11896100  \n",
       "1  12595800  \n",
       "2   8981500  \n",
       "3   9306700  \n",
       "4  16906900  \n",
       "5   8534900  \n",
       "6   6855200  \n",
       "7  10972000  \n",
       "8  10759700  \n",
       "9   8312400  "
      ]
     },
     "execution_count": 4,
     "metadata": {},
     "output_type": "execute_result"
    }
   ],
   "source": [
    "df.head(10)"
   ]
  },
  {
   "cell_type": "code",
   "execution_count": 6,
   "id": "457653ec",
   "metadata": {},
   "outputs": [
    {
     "name": "stdout",
     "output_type": "stream",
     "text": [
      "<class 'pandas.core.frame.DataFrame'>\n",
      "RangeIndex: 1009 entries, 0 to 1008\n",
      "Data columns (total 7 columns):\n",
      " #   Column     Non-Null Count  Dtype  \n",
      "---  ------     --------------  -----  \n",
      " 0   Date       1009 non-null   object \n",
      " 1   Open       1009 non-null   float64\n",
      " 2   High       1009 non-null   float64\n",
      " 3   Low        1009 non-null   float64\n",
      " 4   Close      1009 non-null   float64\n",
      " 5   Adj Close  1009 non-null   float64\n",
      " 6   Volume     1009 non-null   int64  \n",
      "dtypes: float64(5), int64(1), object(1)\n",
      "memory usage: 55.3+ KB\n"
     ]
    }
   ],
   "source": [
    "df.info()"
   ]
  },
  {
   "cell_type": "code",
   "execution_count": 8,
   "id": "1d053081",
   "metadata": {},
   "outputs": [
    {
     "data": {
      "text/plain": [
       "Date         0\n",
       "Open         0\n",
       "High         0\n",
       "Low          0\n",
       "Close        0\n",
       "Adj Close    0\n",
       "Volume       0\n",
       "dtype: int64"
      ]
     },
     "execution_count": 8,
     "metadata": {},
     "output_type": "execute_result"
    }
   ],
   "source": [
    "df.isnull().sum()"
   ]
  },
  {
   "cell_type": "code",
   "execution_count": 10,
   "id": "289d6c42",
   "metadata": {},
   "outputs": [
    {
     "data": {
      "text/plain": [
       "0"
      ]
     },
     "execution_count": 10,
     "metadata": {},
     "output_type": "execute_result"
    }
   ],
   "source": [
    "df.duplicated().sum()"
   ]
  },
  {
   "cell_type": "code",
   "execution_count": 11,
   "id": "4e7d2ec6",
   "metadata": {},
   "outputs": [
    {
     "data": {
      "text/html": [
       "<div>\n",
       "<style scoped>\n",
       "    .dataframe tbody tr th:only-of-type {\n",
       "        vertical-align: middle;\n",
       "    }\n",
       "\n",
       "    .dataframe tbody tr th {\n",
       "        vertical-align: top;\n",
       "    }\n",
       "\n",
       "    .dataframe thead th {\n",
       "        text-align: right;\n",
       "    }\n",
       "</style>\n",
       "<table border=\"1\" class=\"dataframe\">\n",
       "  <thead>\n",
       "    <tr style=\"text-align: right;\">\n",
       "      <th></th>\n",
       "      <th>count</th>\n",
       "      <th>mean</th>\n",
       "      <th>std</th>\n",
       "      <th>min</th>\n",
       "      <th>25%</th>\n",
       "      <th>50%</th>\n",
       "      <th>75%</th>\n",
       "      <th>max</th>\n",
       "    </tr>\n",
       "  </thead>\n",
       "  <tbody>\n",
       "    <tr>\n",
       "      <th>Open</th>\n",
       "      <td>1009.0</td>\n",
       "      <td>4.190597e+02</td>\n",
       "      <td>1.085375e+02</td>\n",
       "      <td>2.339200e+02</td>\n",
       "      <td>3.314900e+02</td>\n",
       "      <td>3.777700e+02</td>\n",
       "      <td>5.091300e+02</td>\n",
       "      <td>6.923500e+02</td>\n",
       "    </tr>\n",
       "    <tr>\n",
       "      <th>High</th>\n",
       "      <td>1009.0</td>\n",
       "      <td>4.253207e+02</td>\n",
       "      <td>1.092630e+02</td>\n",
       "      <td>2.506500e+02</td>\n",
       "      <td>3.363000e+02</td>\n",
       "      <td>3.830100e+02</td>\n",
       "      <td>5.156300e+02</td>\n",
       "      <td>7.009900e+02</td>\n",
       "    </tr>\n",
       "    <tr>\n",
       "      <th>Low</th>\n",
       "      <td>1009.0</td>\n",
       "      <td>4.123740e+02</td>\n",
       "      <td>1.075559e+02</td>\n",
       "      <td>2.312300e+02</td>\n",
       "      <td>3.260000e+02</td>\n",
       "      <td>3.708800e+02</td>\n",
       "      <td>5.025300e+02</td>\n",
       "      <td>6.860900e+02</td>\n",
       "    </tr>\n",
       "    <tr>\n",
       "      <th>Close</th>\n",
       "      <td>1009.0</td>\n",
       "      <td>4.190007e+02</td>\n",
       "      <td>1.082900e+02</td>\n",
       "      <td>2.338800e+02</td>\n",
       "      <td>3.316200e+02</td>\n",
       "      <td>3.786700e+02</td>\n",
       "      <td>5.090800e+02</td>\n",
       "      <td>6.916900e+02</td>\n",
       "    </tr>\n",
       "    <tr>\n",
       "      <th>Adj Close</th>\n",
       "      <td>1009.0</td>\n",
       "      <td>4.190007e+02</td>\n",
       "      <td>1.082900e+02</td>\n",
       "      <td>2.338800e+02</td>\n",
       "      <td>3.316200e+02</td>\n",
       "      <td>3.786700e+02</td>\n",
       "      <td>5.090800e+02</td>\n",
       "      <td>6.916900e+02</td>\n",
       "    </tr>\n",
       "    <tr>\n",
       "      <th>Volume</th>\n",
       "      <td>1009.0</td>\n",
       "      <td>7.570685e+06</td>\n",
       "      <td>5.465535e+06</td>\n",
       "      <td>1.144000e+06</td>\n",
       "      <td>4.091900e+06</td>\n",
       "      <td>5.934500e+06</td>\n",
       "      <td>9.322400e+06</td>\n",
       "      <td>5.890430e+07</td>\n",
       "    </tr>\n",
       "  </tbody>\n",
       "</table>\n",
       "</div>"
      ],
      "text/plain": [
       "            count          mean           std           min           25%  \\\n",
       "Open       1009.0  4.190597e+02  1.085375e+02  2.339200e+02  3.314900e+02   \n",
       "High       1009.0  4.253207e+02  1.092630e+02  2.506500e+02  3.363000e+02   \n",
       "Low        1009.0  4.123740e+02  1.075559e+02  2.312300e+02  3.260000e+02   \n",
       "Close      1009.0  4.190007e+02  1.082900e+02  2.338800e+02  3.316200e+02   \n",
       "Adj Close  1009.0  4.190007e+02  1.082900e+02  2.338800e+02  3.316200e+02   \n",
       "Volume     1009.0  7.570685e+06  5.465535e+06  1.144000e+06  4.091900e+06   \n",
       "\n",
       "                    50%           75%           max  \n",
       "Open       3.777700e+02  5.091300e+02  6.923500e+02  \n",
       "High       3.830100e+02  5.156300e+02  7.009900e+02  \n",
       "Low        3.708800e+02  5.025300e+02  6.860900e+02  \n",
       "Close      3.786700e+02  5.090800e+02  6.916900e+02  \n",
       "Adj Close  3.786700e+02  5.090800e+02  6.916900e+02  \n",
       "Volume     5.934500e+06  9.322400e+06  5.890430e+07  "
      ]
     },
     "execution_count": 11,
     "metadata": {},
     "output_type": "execute_result"
    }
   ],
   "source": [
    "df.describe().T"
   ]
  },
  {
   "cell_type": "code",
   "execution_count": 13,
   "id": "d184fa55",
   "metadata": {},
   "outputs": [
    {
     "data": {
      "text/plain": [
       "(1009, 7)"
      ]
     },
     "execution_count": 13,
     "metadata": {},
     "output_type": "execute_result"
    }
   ],
   "source": [
    "df.shape"
   ]
  },
  {
   "cell_type": "code",
   "execution_count": 14,
   "id": "ad83d195",
   "metadata": {},
   "outputs": [],
   "source": [
    "var=df.copy()"
   ]
  },
  {
   "cell_type": "code",
   "execution_count": 15,
   "id": "32454359",
   "metadata": {},
   "outputs": [],
   "source": [
    "train,test=train_test_split(df,test_size=0.2)"
   ]
  },
  {
   "cell_type": "code",
   "execution_count": 16,
   "id": "81479a51",
   "metadata": {},
   "outputs": [],
   "source": [
    "test_pred=test.copy"
   ]
  },
  {
   "cell_type": "code",
   "execution_count": 17,
   "id": "abc6c32c",
   "metadata": {},
   "outputs": [
    {
     "data": {
      "text/html": [
       "<div>\n",
       "<style scoped>\n",
       "    .dataframe tbody tr th:only-of-type {\n",
       "        vertical-align: middle;\n",
       "    }\n",
       "\n",
       "    .dataframe tbody tr th {\n",
       "        vertical-align: top;\n",
       "    }\n",
       "\n",
       "    .dataframe thead th {\n",
       "        text-align: right;\n",
       "    }\n",
       "</style>\n",
       "<table border=\"1\" class=\"dataframe\">\n",
       "  <thead>\n",
       "    <tr style=\"text-align: right;\">\n",
       "      <th></th>\n",
       "      <th>Date</th>\n",
       "      <th>Open</th>\n",
       "      <th>High</th>\n",
       "      <th>Low</th>\n",
       "      <th>Close</th>\n",
       "      <th>Adj Close</th>\n",
       "      <th>Volume</th>\n",
       "    </tr>\n",
       "  </thead>\n",
       "  <tbody>\n",
       "    <tr>\n",
       "      <th>426</th>\n",
       "      <td>2019-10-15</td>\n",
       "      <td>283.820007</td>\n",
       "      <td>285.869995</td>\n",
       "      <td>279.399994</td>\n",
       "      <td>284.250000</td>\n",
       "      <td>284.250000</td>\n",
       "      <td>7685600</td>\n",
       "    </tr>\n",
       "    <tr>\n",
       "      <th>214</th>\n",
       "      <td>2018-12-11</td>\n",
       "      <td>274.079987</td>\n",
       "      <td>274.500000</td>\n",
       "      <td>262.760010</td>\n",
       "      <td>265.320007</td>\n",
       "      <td>265.320007</td>\n",
       "      <td>9843200</td>\n",
       "    </tr>\n",
       "    <tr>\n",
       "      <th>713</th>\n",
       "      <td>2020-12-03</td>\n",
       "      <td>502.989990</td>\n",
       "      <td>508.769989</td>\n",
       "      <td>496.040009</td>\n",
       "      <td>497.519989</td>\n",
       "      <td>497.519989</td>\n",
       "      <td>2826100</td>\n",
       "    </tr>\n",
       "    <tr>\n",
       "      <th>172</th>\n",
       "      <td>2018-10-10</td>\n",
       "      <td>353.519989</td>\n",
       "      <td>355.149994</td>\n",
       "      <td>325.390015</td>\n",
       "      <td>325.890015</td>\n",
       "      <td>325.890015</td>\n",
       "      <td>17183100</td>\n",
       "    </tr>\n",
       "    <tr>\n",
       "      <th>464</th>\n",
       "      <td>2019-12-09</td>\n",
       "      <td>307.350006</td>\n",
       "      <td>311.489990</td>\n",
       "      <td>302.440002</td>\n",
       "      <td>302.500000</td>\n",
       "      <td>302.500000</td>\n",
       "      <td>5748400</td>\n",
       "    </tr>\n",
       "  </tbody>\n",
       "</table>\n",
       "</div>"
      ],
      "text/plain": [
       "           Date        Open        High         Low       Close   Adj Close  \\\n",
       "426  2019-10-15  283.820007  285.869995  279.399994  284.250000  284.250000   \n",
       "214  2018-12-11  274.079987  274.500000  262.760010  265.320007  265.320007   \n",
       "713  2020-12-03  502.989990  508.769989  496.040009  497.519989  497.519989   \n",
       "172  2018-10-10  353.519989  355.149994  325.390015  325.890015  325.890015   \n",
       "464  2019-12-09  307.350006  311.489990  302.440002  302.500000  302.500000   \n",
       "\n",
       "       Volume  \n",
       "426   7685600  \n",
       "214   9843200  \n",
       "713   2826100  \n",
       "172  17183100  \n",
       "464   5748400  "
      ]
     },
     "execution_count": 17,
     "metadata": {},
     "output_type": "execute_result"
    }
   ],
   "source": [
    "train.head(5)"
   ]
  },
  {
   "cell_type": "code",
   "execution_count": 18,
   "id": "535b3c95",
   "metadata": {},
   "outputs": [
    {
     "data": {
      "text/html": [
       "<div>\n",
       "<style scoped>\n",
       "    .dataframe tbody tr th:only-of-type {\n",
       "        vertical-align: middle;\n",
       "    }\n",
       "\n",
       "    .dataframe tbody tr th {\n",
       "        vertical-align: top;\n",
       "    }\n",
       "\n",
       "    .dataframe thead th {\n",
       "        text-align: right;\n",
       "    }\n",
       "</style>\n",
       "<table border=\"1\" class=\"dataframe\">\n",
       "  <thead>\n",
       "    <tr style=\"text-align: right;\">\n",
       "      <th></th>\n",
       "      <th>Date</th>\n",
       "      <th>Open</th>\n",
       "      <th>High</th>\n",
       "      <th>Low</th>\n",
       "      <th>Close</th>\n",
       "      <th>Adj Close</th>\n",
       "      <th>Volume</th>\n",
       "    </tr>\n",
       "  </thead>\n",
       "  <tbody>\n",
       "    <tr>\n",
       "      <th>391</th>\n",
       "      <td>2019-08-26</td>\n",
       "      <td>295.239990</td>\n",
       "      <td>296.950012</td>\n",
       "      <td>292.500000</td>\n",
       "      <td>294.980011</td>\n",
       "      <td>294.980011</td>\n",
       "      <td>4695700</td>\n",
       "    </tr>\n",
       "    <tr>\n",
       "      <th>496</th>\n",
       "      <td>2020-01-27</td>\n",
       "      <td>345.950012</td>\n",
       "      <td>351.899994</td>\n",
       "      <td>341.019989</td>\n",
       "      <td>342.880005</td>\n",
       "      <td>342.880005</td>\n",
       "      <td>7709500</td>\n",
       "    </tr>\n",
       "    <tr>\n",
       "      <th>744</th>\n",
       "      <td>2021-01-20</td>\n",
       "      <td>565.419983</td>\n",
       "      <td>593.289978</td>\n",
       "      <td>556.859985</td>\n",
       "      <td>586.340027</td>\n",
       "      <td>586.340027</td>\n",
       "      <td>32637500</td>\n",
       "    </tr>\n",
       "    <tr>\n",
       "      <th>158</th>\n",
       "      <td>2018-09-20</td>\n",
       "      <td>370.260010</td>\n",
       "      <td>370.260010</td>\n",
       "      <td>363.170013</td>\n",
       "      <td>365.359985</td>\n",
       "      <td>365.359985</td>\n",
       "      <td>6768100</td>\n",
       "    </tr>\n",
       "    <tr>\n",
       "      <th>396</th>\n",
       "      <td>2019-09-03</td>\n",
       "      <td>290.820007</td>\n",
       "      <td>293.899994</td>\n",
       "      <td>288.059998</td>\n",
       "      <td>289.290009</td>\n",
       "      <td>289.290009</td>\n",
       "      <td>3682800</td>\n",
       "    </tr>\n",
       "  </tbody>\n",
       "</table>\n",
       "</div>"
      ],
      "text/plain": [
       "           Date        Open        High         Low       Close   Adj Close  \\\n",
       "391  2019-08-26  295.239990  296.950012  292.500000  294.980011  294.980011   \n",
       "496  2020-01-27  345.950012  351.899994  341.019989  342.880005  342.880005   \n",
       "744  2021-01-20  565.419983  593.289978  556.859985  586.340027  586.340027   \n",
       "158  2018-09-20  370.260010  370.260010  363.170013  365.359985  365.359985   \n",
       "396  2019-09-03  290.820007  293.899994  288.059998  289.290009  289.290009   \n",
       "\n",
       "       Volume  \n",
       "391   4695700  \n",
       "496   7709500  \n",
       "744  32637500  \n",
       "158   6768100  \n",
       "396   3682800  "
      ]
     },
     "execution_count": 18,
     "metadata": {},
     "output_type": "execute_result"
    }
   ],
   "source": [
    "test.head(5)"
   ]
  },
  {
   "cell_type": "code",
   "execution_count": 19,
   "id": "ad1ef1ce",
   "metadata": {},
   "outputs": [],
   "source": [
    "X_train=train[['Open','High','Low','Volume']].values\n",
    "X_test=test[['Open','High','Low','Volume']].values"
   ]
  },
  {
   "cell_type": "code",
   "execution_count": 24,
   "id": "b7338a48",
   "metadata": {},
   "outputs": [],
   "source": [
    "y_train=train[['Close']].values\n",
    "Y_test=test[['Close']].values"
   ]
  },
  {
   "cell_type": "code",
   "execution_count": 21,
   "id": "0d7083d0",
   "metadata": {},
   "outputs": [],
   "source": [
    "Log=LinearRegression()"
   ]
  },
  {
   "cell_type": "code",
   "execution_count": 25,
   "id": "ad4e6fef",
   "metadata": {},
   "outputs": [
    {
     "data": {
      "text/plain": [
       "LinearRegression()"
      ]
     },
     "execution_count": 25,
     "metadata": {},
     "output_type": "execute_result"
    }
   ],
   "source": [
    "Log.fit(X_train,y_train)"
   ]
  },
  {
   "cell_type": "code",
   "execution_count": 29,
   "id": "bf7f8c91",
   "metadata": {},
   "outputs": [],
   "source": [
    "y_pred=Log.predict(X_test)"
   ]
  },
  {
   "cell_type": "code",
   "execution_count": 30,
   "id": "3a0671d6",
   "metadata": {},
   "outputs": [
    {
     "ename": "ValueError",
     "evalue": "X has 4 features, but LinearRegression is expecting 1 features as input.",
     "output_type": "error",
     "traceback": [
      "\u001b[1;31m---------------------------------------------------------------------------\u001b[0m",
      "\u001b[1;31mValueError\u001b[0m                                Traceback (most recent call last)",
      "\u001b[1;32m~\\AppData\\Local\\Temp\\ipykernel_6748\\3500069547.py\u001b[0m in \u001b[0;36m<module>\u001b[1;34m\u001b[0m\n\u001b[1;32m----> 1\u001b[1;33m \u001b[0mforcast\u001b[0m\u001b[1;33m=\u001b[0m\u001b[0mLog\u001b[0m\u001b[1;33m.\u001b[0m\u001b[0mpredict\u001b[0m\u001b[1;33m(\u001b[0m\u001b[1;33m[\u001b[0m\u001b[1;33m[\u001b[0m\u001b[1;36m295.239990\u001b[0m\u001b[1;33m,\u001b[0m\u001b[1;36m296.950012\u001b[0m\u001b[1;33m,\u001b[0m\u001b[1;36m292.500000\u001b[0m\u001b[1;33m,\u001b[0m\u001b[1;36m4695700\u001b[0m\u001b[1;33m]\u001b[0m\u001b[1;33m]\u001b[0m\u001b[1;33m)\u001b[0m\u001b[1;33m\u001b[0m\u001b[1;33m\u001b[0m\u001b[0m\n\u001b[0m\u001b[0;32m      2\u001b[0m \u001b[0mprint\u001b[0m\u001b[1;33m(\u001b[0m\u001b[0mforcast\u001b[0m\u001b[1;33m)\u001b[0m\u001b[1;33m\u001b[0m\u001b[1;33m\u001b[0m\u001b[0m\n",
      "\u001b[1;32m~\\anaconda3\\lib\\site-packages\\sklearn\\linear_model\\_base.py\u001b[0m in \u001b[0;36mpredict\u001b[1;34m(self, X)\u001b[0m\n\u001b[0;32m    360\u001b[0m             \u001b[0mReturns\u001b[0m \u001b[0mpredicted\u001b[0m \u001b[0mvalues\u001b[0m\u001b[1;33m.\u001b[0m\u001b[1;33m\u001b[0m\u001b[1;33m\u001b[0m\u001b[0m\n\u001b[0;32m    361\u001b[0m         \"\"\"\n\u001b[1;32m--> 362\u001b[1;33m         \u001b[1;32mreturn\u001b[0m \u001b[0mself\u001b[0m\u001b[1;33m.\u001b[0m\u001b[0m_decision_function\u001b[0m\u001b[1;33m(\u001b[0m\u001b[0mX\u001b[0m\u001b[1;33m)\u001b[0m\u001b[1;33m\u001b[0m\u001b[1;33m\u001b[0m\u001b[0m\n\u001b[0m\u001b[0;32m    363\u001b[0m \u001b[1;33m\u001b[0m\u001b[0m\n\u001b[0;32m    364\u001b[0m     \u001b[0m_preprocess_data\u001b[0m \u001b[1;33m=\u001b[0m \u001b[0mstaticmethod\u001b[0m\u001b[1;33m(\u001b[0m\u001b[0m_preprocess_data\u001b[0m\u001b[1;33m)\u001b[0m\u001b[1;33m\u001b[0m\u001b[1;33m\u001b[0m\u001b[0m\n",
      "\u001b[1;32m~\\anaconda3\\lib\\site-packages\\sklearn\\linear_model\\_base.py\u001b[0m in \u001b[0;36m_decision_function\u001b[1;34m(self, X)\u001b[0m\n\u001b[0;32m    343\u001b[0m         \u001b[0mcheck_is_fitted\u001b[0m\u001b[1;33m(\u001b[0m\u001b[0mself\u001b[0m\u001b[1;33m)\u001b[0m\u001b[1;33m\u001b[0m\u001b[1;33m\u001b[0m\u001b[0m\n\u001b[0;32m    344\u001b[0m \u001b[1;33m\u001b[0m\u001b[0m\n\u001b[1;32m--> 345\u001b[1;33m         \u001b[0mX\u001b[0m \u001b[1;33m=\u001b[0m \u001b[0mself\u001b[0m\u001b[1;33m.\u001b[0m\u001b[0m_validate_data\u001b[0m\u001b[1;33m(\u001b[0m\u001b[0mX\u001b[0m\u001b[1;33m,\u001b[0m \u001b[0maccept_sparse\u001b[0m\u001b[1;33m=\u001b[0m\u001b[1;33m[\u001b[0m\u001b[1;34m\"csr\"\u001b[0m\u001b[1;33m,\u001b[0m \u001b[1;34m\"csc\"\u001b[0m\u001b[1;33m,\u001b[0m \u001b[1;34m\"coo\"\u001b[0m\u001b[1;33m]\u001b[0m\u001b[1;33m,\u001b[0m \u001b[0mreset\u001b[0m\u001b[1;33m=\u001b[0m\u001b[1;32mFalse\u001b[0m\u001b[1;33m)\u001b[0m\u001b[1;33m\u001b[0m\u001b[1;33m\u001b[0m\u001b[0m\n\u001b[0m\u001b[0;32m    346\u001b[0m         \u001b[1;32mreturn\u001b[0m \u001b[0msafe_sparse_dot\u001b[0m\u001b[1;33m(\u001b[0m\u001b[0mX\u001b[0m\u001b[1;33m,\u001b[0m \u001b[0mself\u001b[0m\u001b[1;33m.\u001b[0m\u001b[0mcoef_\u001b[0m\u001b[1;33m.\u001b[0m\u001b[0mT\u001b[0m\u001b[1;33m,\u001b[0m \u001b[0mdense_output\u001b[0m\u001b[1;33m=\u001b[0m\u001b[1;32mTrue\u001b[0m\u001b[1;33m)\u001b[0m \u001b[1;33m+\u001b[0m \u001b[0mself\u001b[0m\u001b[1;33m.\u001b[0m\u001b[0mintercept_\u001b[0m\u001b[1;33m\u001b[0m\u001b[1;33m\u001b[0m\u001b[0m\n\u001b[0;32m    347\u001b[0m \u001b[1;33m\u001b[0m\u001b[0m\n",
      "\u001b[1;32m~\\anaconda3\\lib\\site-packages\\sklearn\\base.py\u001b[0m in \u001b[0;36m_validate_data\u001b[1;34m(self, X, y, reset, validate_separately, **check_params)\u001b[0m\n\u001b[0;32m    583\u001b[0m \u001b[1;33m\u001b[0m\u001b[0m\n\u001b[0;32m    584\u001b[0m         \u001b[1;32mif\u001b[0m \u001b[1;32mnot\u001b[0m \u001b[0mno_val_X\u001b[0m \u001b[1;32mand\u001b[0m \u001b[0mcheck_params\u001b[0m\u001b[1;33m.\u001b[0m\u001b[0mget\u001b[0m\u001b[1;33m(\u001b[0m\u001b[1;34m\"ensure_2d\"\u001b[0m\u001b[1;33m,\u001b[0m \u001b[1;32mTrue\u001b[0m\u001b[1;33m)\u001b[0m\u001b[1;33m:\u001b[0m\u001b[1;33m\u001b[0m\u001b[1;33m\u001b[0m\u001b[0m\n\u001b[1;32m--> 585\u001b[1;33m             \u001b[0mself\u001b[0m\u001b[1;33m.\u001b[0m\u001b[0m_check_n_features\u001b[0m\u001b[1;33m(\u001b[0m\u001b[0mX\u001b[0m\u001b[1;33m,\u001b[0m \u001b[0mreset\u001b[0m\u001b[1;33m=\u001b[0m\u001b[0mreset\u001b[0m\u001b[1;33m)\u001b[0m\u001b[1;33m\u001b[0m\u001b[1;33m\u001b[0m\u001b[0m\n\u001b[0m\u001b[0;32m    586\u001b[0m \u001b[1;33m\u001b[0m\u001b[0m\n\u001b[0;32m    587\u001b[0m         \u001b[1;32mreturn\u001b[0m \u001b[0mout\u001b[0m\u001b[1;33m\u001b[0m\u001b[1;33m\u001b[0m\u001b[0m\n",
      "\u001b[1;32m~\\anaconda3\\lib\\site-packages\\sklearn\\base.py\u001b[0m in \u001b[0;36m_check_n_features\u001b[1;34m(self, X, reset)\u001b[0m\n\u001b[0;32m    398\u001b[0m \u001b[1;33m\u001b[0m\u001b[0m\n\u001b[0;32m    399\u001b[0m         \u001b[1;32mif\u001b[0m \u001b[0mn_features\u001b[0m \u001b[1;33m!=\u001b[0m \u001b[0mself\u001b[0m\u001b[1;33m.\u001b[0m\u001b[0mn_features_in_\u001b[0m\u001b[1;33m:\u001b[0m\u001b[1;33m\u001b[0m\u001b[1;33m\u001b[0m\u001b[0m\n\u001b[1;32m--> 400\u001b[1;33m             raise ValueError(\n\u001b[0m\u001b[0;32m    401\u001b[0m                 \u001b[1;34mf\"X has {n_features} features, but {self.__class__.__name__} \"\u001b[0m\u001b[1;33m\u001b[0m\u001b[1;33m\u001b[0m\u001b[0m\n\u001b[0;32m    402\u001b[0m                 \u001b[1;34mf\"is expecting {self.n_features_in_} features as input.\"\u001b[0m\u001b[1;33m\u001b[0m\u001b[1;33m\u001b[0m\u001b[0m\n",
      "\u001b[1;31mValueError\u001b[0m: X has 4 features, but LinearRegression is expecting 1 features as input."
     ]
    }
   ],
   "source": [
    "forcast=Log.predict([[295.239990,296.950012,292.500000,4695700]])\n",
    "print(forcast)"
   ]
  },
  {
   "cell_type": "code",
   "execution_count": 31,
   "id": "5cf88d5a",
   "metadata": {},
   "outputs": [],
   "source": [
    "from sklearn.metrics import mean_squared_error, mean_absolute_error,r2_score"
   ]
  },
  {
   "cell_type": "code",
   "execution_count": 33,
   "id": "62d0a060",
   "metadata": {},
   "outputs": [
    {
     "name": "stdout",
     "output_type": "stream",
     "text": [
      "MSE 0.0\n"
     ]
    }
   ],
   "source": [
    "print('MSE',round(mean_squared_error(y_test,y_pred),3))"
   ]
  },
  {
   "cell_type": "code",
   "execution_count": 35,
   "id": "4e874a1e",
   "metadata": {},
   "outputs": [
    {
     "name": "stdout",
     "output_type": "stream",
     "text": [
      "RMSE 0.0\n"
     ]
    }
   ],
   "source": [
    "print('RMSE',round(np.sqrt(mean_squared_error(y_test,y_pred)),3))"
   ]
  },
  {
   "cell_type": "code",
   "execution_count": 36,
   "id": "ca77699f",
   "metadata": {},
   "outputs": [
    {
     "name": "stdout",
     "output_type": "stream",
     "text": [
      "MAE 0.0\n"
     ]
    }
   ],
   "source": [
    "print('MAE',round(mean_absolute_error(_test,y_pred),3))"
   ]
  },
  {
   "cell_type": "code",
   "execution_count": 55,
   "id": "87f8588a",
   "metadata": {},
   "outputs": [],
   "source": [
    "def style():\n",
    "    plt.figure(facecolor='yellow',figsize=(15,10))\n",
    "    ax=plt.axes()\n",
    "    ax.tick_params(axis='x',colors='black')\n",
    "    ax.tick_params(axis='y',colors='black')\n",
    "    ax.spines['left'].set_color('black')\n",
    "    ax.spines['bottom'].set_color('black')\n",
    "    ax.set_facecolor('yellow')"
   ]
  },
  {
   "cell_type": "code",
   "execution_count": 40,
   "id": "7a2f03a4",
   "metadata": {},
   "outputs": [],
   "source": [
    "var['Date']=pd.to_datetime(var['Date'],format='%Y-%m-%d')"
   ]
  },
  {
   "cell_type": "code",
   "execution_count": 45,
   "id": "fb265390",
   "metadata": {},
   "outputs": [],
   "source": [
    "data=pd.DataFrame(var[['Date','Close']])\n",
    "data=data.reset_index()\n",
    "data=data.drop('index',axis=1)\n",
    "data=data.set_index('Date',inplace=True)\n",
    "data"
   ]
  },
  {
   "cell_type": "code",
   "execution_count": 56,
   "id": "e2a17599",
   "metadata": {},
   "outputs": [
    {
     "data": {
      "text/plain": [
       "<matplotlib.legend.Legend at 0x1fdfa8ceb20>"
      ]
     },
     "execution_count": 56,
     "metadata": {},
     "output_type": "execute_result"
    },
    {
     "data": {
      "image/png": "[encoded data removed]",
      "text/plain": [
       "<Figure size 1500x1000 with 1 Axes>"
      ]
     },
     "metadata": {},
     "output_type": "display_data"
    }
   ],
   "source": [
    "style()\n",
    "plt.title('Closing stock price',color='black')\n",
    "plt.plot(var.Date,var.Close,color='black')\n",
    "plt.legend(['Close'],loc = 'lower right',facecolor='yellow', labelcolor='black')"
   ]
  }
 ],
 "metadata": {
  "kernelspec": {
   "display_name": "Python 3 (ipykernel)",
   "language": "python",
   "name": "python3"
  },
  "language_info": {
   "codemirror_mode": {
    "name": "ipython",
    "version": 3
   },
   "file_extension": ".py",
   "mimetype": "text/x-python",
   "name": "python",
   "nbconvert_exporter": "python",
   "pygments_lexer": "ipython3",
   "version": "3.9.13"
  }
 },
 "nbformat": 4,
 "nbformat_minor": 5
}
